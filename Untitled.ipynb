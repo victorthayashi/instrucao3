{
 "cells": [
  {
   "cell_type": "markdown",
   "id": "aaa3e2c9",
   "metadata": {},
   "source": [
    "# Biblioteca de manipulação de texto: NLTK e Spacy"
   ]
  },
  {
   "cell_type": "markdown",
   "id": "5913fb17",
   "metadata": {},
   "source": [
    "O objetivo deste encontro é consolidar as técnicas apresentadas de processamento de textos nos encontros anteriores utilizando as bibliotecas NLTK e Spacy."
   ]
  },
  {
   "cell_type": "markdown",
   "id": "fa660d5a",
   "metadata": {},
   "source": [
    "## 1. NLTK"
   ]
  },
  {
   "cell_type": "markdown",
   "id": "ab2fba8b",
   "metadata": {},
   "source": [
    "### 1.1. Instalação"
   ]
  },
  {
   "cell_type": "markdown",
   "id": "5b6eabdb",
   "metadata": {},
   "source": [
    "Enquanto não temos a biblioteca instalada, não podemos importá-la..."
   ]
  },
  {
   "cell_type": "code",
   "execution_count": 1,
   "id": "da0dbe5d",
   "metadata": {},
   "outputs": [
    {
     "ename": "ModuleNotFoundError",
     "evalue": "No module named 'nltk'",
     "output_type": "error",
     "traceback": [
      "\u001b[1;31m---------------------------------------------------------------------------\u001b[0m",
      "\u001b[1;31mModuleNotFoundError\u001b[0m                       Traceback (most recent call last)",
      "Cell \u001b[1;32mIn[1], line 1\u001b[0m\n\u001b[1;32m----> 1\u001b[0m \u001b[38;5;28;01mimport\u001b[39;00m \u001b[38;5;21;01mnltk\u001b[39;00m\n",
      "\u001b[1;31mModuleNotFoundError\u001b[0m: No module named 'nltk'"
     ]
    }
   ],
   "source": [
    "import nltk"
   ]
  },
  {
   "cell_type": "markdown",
   "id": "acaf8487",
   "metadata": {},
   "source": [
    "Seguindo o autoestudo abaixo, vamos fazer a instalação da biblioteca.\n",
    "\n",
    "**Introduction To Natural Language Toolkit (NLTK) | NLTK Tutorial in Python**\n",
    "\n",
    "https://www.youtube.com/watch?v=WYge0KZBhe0"
   ]
  },
  {
   "cell_type": "code",
   "execution_count": 6,
   "id": "b5320f83",
   "metadata": {},
   "outputs": [
    {
     "name": "stdout",
     "output_type": "stream",
     "text": [
      "Requirement already satisfied: nltk in c:\\users\\inteli\\appdata\\roaming\\python\\python311\\site-packages (3.8.1)\n",
      "Requirement already satisfied: click in c:\\users\\inteli\\appdata\\roaming\\python\\python311\\site-packages (from nltk) (8.1.3)\n",
      "Requirement already satisfied: joblib in c:\\users\\inteli\\appdata\\roaming\\python\\python311\\site-packages (from nltk) (1.2.0)\n",
      "Requirement already satisfied: regex>=2021.8.3 in c:\\users\\inteli\\appdata\\roaming\\python\\python311\\site-packages (from nltk) (2023.3.23)\n",
      "Requirement already satisfied: tqdm in c:\\python311\\lib\\site-packages (from nltk) (4.65.0)\n",
      "Requirement already satisfied: colorama in c:\\python311\\lib\\site-packages (from click->nltk) (0.4.6)\n",
      "Note: you may need to restart the kernel to use updated packages.\n"
     ]
    },
    {
     "name": "stderr",
     "output_type": "stream",
     "text": [
      "\n",
      "[notice] A new release of pip is available: 23.0.1 -> 23.1.1\n",
      "[notice] To update, run: python.exe -m pip install --upgrade pip\n"
     ]
    }
   ],
   "source": [
    "pip install nltk --user"
   ]
  },
  {
   "cell_type": "markdown",
   "id": "72068a9b",
   "metadata": {},
   "source": [
    "Talvez seja necessário adicionar um caminho às variáveis de ambiente (path) do Windows.\n",
    "\n",
    "Após a instalação, reinicie o ambiente de execução (kernel) do Jupyter Notebook."
   ]
  },
  {
   "cell_type": "code",
   "execution_count": 1,
   "id": "89b3f560",
   "metadata": {},
   "outputs": [],
   "source": [
    "import nltk"
   ]
  },
  {
   "cell_type": "markdown",
   "id": "5fce307b",
   "metadata": {},
   "source": [
    "Agora, vamos atualizar os pacotes desta biblioteca NLTK:"
   ]
  },
  {
   "cell_type": "code",
   "execution_count": 2,
   "id": "38fce2af",
   "metadata": {},
   "outputs": [
    {
     "name": "stdout",
     "output_type": "stream",
     "text": [
      "showing info https://raw.githubusercontent.com/nltk/nltk_data/gh-pages/index.xml\n"
     ]
    },
    {
     "data": {
      "text/plain": [
       "True"
      ]
     },
     "execution_count": 2,
     "metadata": {},
     "output_type": "execute_result"
    }
   ],
   "source": [
    "import nltk\n",
    "nltk.download()"
   ]
  }
 ],
 "metadata": {
  "celltoolbar": "Slideshow",
  "kernelspec": {
   "display_name": "Python 3 (ipykernel)",
   "language": "python",
   "name": "python3"
  },
  "language_info": {
   "codemirror_mode": {
    "name": "ipython",
    "version": 3
   },
   "file_extension": ".py",
   "mimetype": "text/x-python",
   "name": "python",
   "nbconvert_exporter": "python",
   "pygments_lexer": "ipython3",
   "version": "3.11.0"
  }
 },
 "nbformat": 4,
 "nbformat_minor": 5
}
